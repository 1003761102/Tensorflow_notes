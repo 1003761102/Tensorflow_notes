{
 "cells": [
  {
   "cell_type": "code",
   "execution_count": 2,
   "metadata": {},
   "outputs": [],
   "source": [
    "import numpy as np\n",
    "import tensorflow as tf\n",
    "import matplotlib.pyplot as plt\n",
    "%matplotlib inline"
   ]
  },
  {
   "cell_type": "code",
   "execution_count": 3,
   "metadata": {},
   "outputs": [
    {
     "data": {
      "text/plain": [
       "<matplotlib.collections.PathCollection at 0x24139a02b70>"
      ]
     },
     "execution_count": 3,
     "metadata": {},
     "output_type": "execute_result"
    },
    {
     "data": {
      "image/png": "[encoded data removed]",
      "text/plain": [
       "<Figure size 432x288 with 1 Axes>"
      ]
     },
     "metadata": {},
     "output_type": "display_data"
    }
   ],
   "source": [
    "point_nums = 80\n",
    "vector = []\n",
    "for i in range(point_nums):\n",
    "    x1 = np.random.normal(0, 0.8)\n",
    "    y1 = 0.7*x1+0.5+np.random.normal(0.0, 0.11)\n",
    "    vector.append([x1, y1])\n",
    "X_data = [v[0] for v in vector]\n",
    "y_data = [v[1] for v in vector]\n",
    "plt.scatter(X_data, y_data)"
   ]
  },
  {
   "cell_type": "code",
   "execution_count": 11,
   "metadata": {},
   "outputs": [
    {
     "name": "stdout",
     "output_type": "stream",
     "text": [
      "Init W: [0.96437407] Init b: [0.]\n",
      " W: [0.8360675]  b: [0.32775444]\n",
      " W: [0.7766491]  b: [0.44710502]\n",
      " W: [0.74616235]  b: [0.48940334]\n",
      " W: [0.7287855]  b: [0.50353044]\n",
      " W: [0.7179668]  b: [0.5075898]\n",
      " W: [0.71079737]  b: [0.5082227]\n",
      " W: [0.7058579]  b: [0.50781924]\n",
      " W: [0.70237786]  b: [0.5072055]\n",
      " W: [0.69989586]  b: [0.50664127]\n",
      " W: [0.6981141]  b: [0.5061883]\n",
      " W: [0.69683063]  b: [0.5058439]\n",
      " W: [0.6959045]  b: [0.50558853]\n",
      " W: [0.69523555]  b: [0.5054016]\n",
      " W: [0.6947521]  b: [0.5052656]\n",
      " W: [0.69440264]  b: [0.5051669]\n",
      " W: [0.69415003]  b: [0.50509536]\n",
      " W: [0.6939674]  b: [0.5050436]\n",
      " W: [0.6938354]  b: [0.50500625]\n",
      " W: [0.6937399]  b: [0.5049792]\n",
      " W: [0.69367087]  b: [0.50495964]\n",
      " W: [0.693621]  b: [0.50494546]\n",
      " W: [0.6935849]  b: [0.5049352]\n",
      " W: [0.6935588]  b: [0.5049278]\n",
      " W: [0.69354]  b: [0.5049225]\n",
      " W: [0.6935263]  b: [0.50491863]\n"
     ]
    }
   ],
   "source": [
    "W = tf.Variable(tf.random_uniform([1], -1.0, 1.0), name='W')\n",
    "b = tf.Variable(tf.zeros([1]), name='b')\n",
    "y = W*X_data+b\n",
    "loss = tf.reduce_mean(tf.square(y-y_data), name='loss')\n",
    "optimizer = tf.train.GradientDescentOptimizer(0.3)\n",
    "train = optimizer.minimize(loss, name='train')\n",
    "sess = tf.Session()\n",
    "\n",
    "init = tf.global_variables_initializer()\n",
    "sess.run(init)\n",
    "print('Init W:', sess.run(W), 'Init b:', sess.run(b))\n",
    "for i in range(25):\n",
    "    sess.run(train)\n",
    "    print(' W:', sess.run(W), ' b:', sess.run(b))"
   ]
  },
  {
   "cell_type": "code",
   "execution_count": 12,
   "metadata": {},
   "outputs": [
    {
     "data": {
      "text/plain": [
       "[<matplotlib.lines.Line2D at 0x24139f62630>]"
      ]
     },
     "execution_count": 12,
     "metadata": {},
     "output_type": "execute_result"
    },
    {
     "data": {
      "image/png": "[encoded data removed]",
      "text/plain": [
       "<Figure size 432x288 with 1 Axes>"
      ]
     },
     "metadata": {},
     "output_type": "display_data"
    }
   ],
   "source": [
    "plt.scatter(X_data, y_data, c='r')\n",
    "plt.plot(X_data, sess.run(W)*X_data+sess.run(b))"
   ]
  },
  {
   "cell_type": "code",
   "execution_count": null,
   "metadata": {},
   "outputs": [],
   "source": []
  }
 ],
 "metadata": {
  "kernelspec": {
   "display_name": "Python 3",
   "language": "python",
   "name": "python3"
  },
  "language_info": {
   "codemirror_mode": {
    "name": "ipython",
    "version": 3
   },
   "file_extension": ".py",
   "mimetype": "text/x-python",
   "name": "python",
   "nbconvert_exporter": "python",
   "pygments_lexer": "ipython3",
   "version": "3.6.1"
  }
 },
 "nbformat": 4,
 "nbformat_minor": 2
}
