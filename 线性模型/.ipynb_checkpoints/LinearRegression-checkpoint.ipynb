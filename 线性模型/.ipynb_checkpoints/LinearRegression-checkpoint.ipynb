{
 "cells": [
  {
   "cell_type": "code",
   "execution_count": 2,
   "metadata": {},
   "outputs": [],
   "source": [
    "import numpy as np\n",
    "import tensorflow as tf\n",
    "import matplotlib.pyplot as plt\n",
    "%matplotlib inline"
   ]
  },
  {
   "cell_type": "code",
   "execution_count": 3,
   "metadata": {},
   "outputs": [
    {
     "data": {
      "text/plain": [
       "<matplotlib.collections.PathCollection at 0x24139a02b70>"
      ]
     },
     "execution_count": 3,
     "metadata": {},
     "output_type": "execute_result"
    },
    {
     "data": {
      "image/png": "[encoded data removed]",
      "text/plain": [
       "<Figure size 432x288 with 1 Axes>"
      ]
     },
     "metadata": {},
     "output_type": "display_data"
    }
   ],
   "source": [
    "point_nums = 80\n",
    "vector = []\n",
    "for i in range(point_nums):\n",
    "    x1 = np.random.normal(0, 0.8)\n",
    "    y1 = 0.7*x1+0.5+np.random.normal(0.0, 0.11)\n",
    "    vector.append([x1, y1])\n",
    "X_data = [v[0] for v in vector]\n",
    "y_data = [v[1] for v in vector]\n",
    "plt.scatter(X_data, y_data)"
   ]
  },
  {
   "cell_type": "code",
   "execution_count": 7,
   "metadata": {},
   "outputs": [
    {
     "name": "stdout",
     "output_type": "stream",
     "text": [
      "[-0.4897132]\n"
     ]
    }
   ],
   "source": [
    "W = tf.Variable(tf.random_uniform([1], -1.0, 1.0), name='W')\n",
    "b = tf.Variable(tf.zeros([1]), name='b')\n",
    "y = W*X_data+b\n",
    "loss = tf.reduce_mean(tf.square(y-y_data), name='loss')\n",
    "optimizer = tf.train.GradientDescentOptimizer(0.3)\n",
    "train = optimizer.minimize(loss, name='train')\n",
    "sess = tf.Session()\n",
    "\n",
    "init = tf.global_variables_initializer()\n",
    "sess.run(init)\n",
    "print('Init W:', sess.run(W), 'Init b:', sess.run(b))\n",
    "for i in range(10):\n",
    "    sess.run(train)\n",
    "    print(' W:', sess.run(W), ' b:', sess.run(b))\n"
   ]
  },
  {
   "cell_type": "code",
   "execution_count": null,
   "metadata": {},
   "outputs": [],
   "source": []
  },
  {
   "cell_type": "code",
   "execution_count": null,
   "metadata": {},
   "outputs": [],
   "source": []
  }
 ],
 "metadata": {
  "kernelspec": {
   "display_name": "Python 3",
   "language": "python",
   "name": "python3"
  },
  "language_info": {
   "codemirror_mode": {
    "name": "ipython",
    "version": 3
   },
   "file_extension": ".py",
   "mimetype": "text/x-python",
   "name": "python",
   "nbconvert_exporter": "python",
   "pygments_lexer": "ipython3",
   "version": "3.6.1"
  }
 },
 "nbformat": 4,
 "nbformat_minor": 2
}
