{
 "cells": [
  {
   "cell_type": "code",
   "execution_count": 1,
   "metadata": {},
   "outputs": [
    {
     "name": "stdout",
     "output_type": "stream",
     "text": [
      "WARNING:tensorflow:From c:\\users\\idsse\\envs\\tf_env\\lib\\site-packages\\tensorflow\\contrib\\learn\\python\\learn\\datasets\\base.py:198: retry (from tensorflow.contrib.learn.python.learn.datasets.base) is deprecated and will be removed in a future version.\n",
      "Instructions for updating:\n",
      "Use the retry module or similar alternatives.\n"
     ]
    }
   ],
   "source": [
    "%matplotlib inline\n",
    "import numpy as np\n",
    "import tensorflow as tf\n",
    "import matplotlib.pyplot as plt\n",
    "from tensorflow.examples.tutorials.mnist import input_data\n",
    "import time"
   ]
  },
  {
   "cell_type": "code",
   "execution_count": 2,
   "metadata": {},
   "outputs": [
    {
     "name": "stdout",
     "output_type": "stream",
     "text": [
      "WARNING:tensorflow:From <ipython-input-2-026730505e84>:1: read_data_sets (from tensorflow.contrib.learn.python.learn.datasets.mnist) is deprecated and will be removed in a future version.\n",
      "Instructions for updating:\n",
      "Please use alternatives such as official/mnist/dataset.py from tensorflow/models.\n",
      "WARNING:tensorflow:From c:\\users\\idsse\\envs\\tf_env\\lib\\site-packages\\tensorflow\\contrib\\learn\\python\\learn\\datasets\\mnist.py:260: maybe_download (from tensorflow.contrib.learn.python.learn.datasets.base) is deprecated and will be removed in a future version.\n",
      "Instructions for updating:\n",
      "Please write your own downloading logic.\n",
      "WARNING:tensorflow:From c:\\users\\idsse\\envs\\tf_env\\lib\\site-packages\\tensorflow\\contrib\\learn\\python\\learn\\datasets\\mnist.py:262: extract_images (from tensorflow.contrib.learn.python.learn.datasets.mnist) is deprecated and will be removed in a future version.\n",
      "Instructions for updating:\n",
      "Please use tf.data to implement this functionality.\n",
      "Extracting MNIST/train-images-idx3-ubyte.gz\n",
      "WARNING:tensorflow:From c:\\users\\idsse\\envs\\tf_env\\lib\\site-packages\\tensorflow\\contrib\\learn\\python\\learn\\datasets\\mnist.py:267: extract_labels (from tensorflow.contrib.learn.python.learn.datasets.mnist) is deprecated and will be removed in a future version.\n",
      "Instructions for updating:\n",
      "Please use tf.data to implement this functionality.\n",
      "Extracting MNIST/train-labels-idx1-ubyte.gz\n",
      "WARNING:tensorflow:From c:\\users\\idsse\\envs\\tf_env\\lib\\site-packages\\tensorflow\\contrib\\learn\\python\\learn\\datasets\\mnist.py:110: dense_to_one_hot (from tensorflow.contrib.learn.python.learn.datasets.mnist) is deprecated and will be removed in a future version.\n",
      "Instructions for updating:\n",
      "Please use tf.one_hot on tensors.\n",
      "Extracting MNIST/t10k-images-idx3-ubyte.gz\n",
      "Extracting MNIST/t10k-labels-idx1-ubyte.gz\n",
      "WARNING:tensorflow:From c:\\users\\idsse\\envs\\tf_env\\lib\\site-packages\\tensorflow\\contrib\\learn\\python\\learn\\datasets\\mnist.py:290: DataSet.__init__ (from tensorflow.contrib.learn.python.learn.datasets.mnist) is deprecated and will be removed in a future version.\n",
      "Instructions for updating:\n",
      "Please use alternatives such as official/mnist/dataset.py from tensorflow/models.\n"
     ]
    }
   ],
   "source": [
    "mnist = input_data.read_data_sets('MNIST/', one_hot=True)"
   ]
  },
  {
   "cell_type": "code",
   "execution_count": 3,
   "metadata": {},
   "outputs": [
    {
     "name": "stdout",
     "output_type": "stream",
     "text": [
      "(55000, 784)\n"
     ]
    }
   ],
   "source": [
    "print(mnist.train.images.shape)"
   ]
  },
  {
   "cell_type": "code",
   "execution_count": 4,
   "metadata": {},
   "outputs": [],
   "source": [
    "n_hidden_1 = 256\n",
    "n_hidden_2 = 128\n",
    "n_classes = 10\n",
    "n_input = 784\n",
    "\n",
    "x = tf.placeholder('float', [None, n_input])\n",
    "y = tf.placeholder('float', [None, n_classes])\n",
    "\n",
    "stddev = 0.1 \n",
    "weights = {\n",
    "    'w1': tf.Variable(tf.random_normal([n_input, n_hidden_1], stddev=stddev)),\n",
    "    'w2': tf.Variable(tf.random_normal([n_hidden_1, n_hidden_2], stddev=stddev)),\n",
    "    'out': tf.Variable(tf.random_normal([n_hidden_2, n_classes], stddev=stddev)),\n",
    "\n",
    "}\n",
    "\n",
    "biases = {\n",
    "    'b1': tf.Variable(tf.random_normal([n_hidden_1])),\n",
    "    'b2': tf.Variable(tf.random_normal([n_hidden_2])),\n",
    "    'out': tf.Variable(tf.random_normal([n_classes])),\n",
    "\n",
    "}\n",
    "\n"
   ]
  },
  {
   "cell_type": "code",
   "execution_count": 5,
   "metadata": {},
   "outputs": [],
   "source": [
    "def multilayer_perceptron(x, weights, biases):\n",
    "    layer_1 = tf.nn.sigmoid(tf.add(tf.matmul(x, weights['w1']), biases['b1']))\n",
    "    layer_2 = tf.nn.sigmoid(tf.add(tf.matmul(layer_1, weights['w2']), biases['b2']))\n",
    "    return (tf.matmul(layer_2, weights['out']) + biases['out'])"
   ]
  },
  {
   "cell_type": "code",
   "execution_count": 6,
   "metadata": {},
   "outputs": [
    {
     "name": "stdout",
     "output_type": "stream",
     "text": [
      "WARNING:tensorflow:From <ipython-input-6-c5f99ef3c86a>:4: softmax_cross_entropy_with_logits (from tensorflow.python.ops.nn_ops) is deprecated and will be removed in a future version.\n",
      "Instructions for updating:\n",
      "\n",
      "Future major versions of TensorFlow will allow gradients to flow\n",
      "into the labels input on backprop by default.\n",
      "\n",
      "See tf.nn.softmax_cross_entropy_with_logits_v2.\n",
      "\n"
     ]
    }
   ],
   "source": [
    "pred = multilayer_perceptron(x, weights, biases)\n",
    "\n",
    "# loss and optimizer\n",
    "cost = tf.reduce_mean(tf.nn.softmax_cross_entropy_with_logits(logits=pred, labels=y))\n",
    "optm = tf.train.GradientDescentOptimizer(learning_rate=0.001).minimize(cost)\n",
    "corr = tf.equal(tf.argmax(pred, 1), tf.argmax(y, 1))\n",
    "accr = tf.reduce_mean(tf.cast(corr, 'float'))\n",
    "\n",
    "# Initializer\n",
    "init = tf.global_variables_initializer()"
   ]
  },
  {
   "cell_type": "code",
   "execution_count": 8,
   "metadata": {},
   "outputs": [
    {
     "name": "stdout",
     "output_type": "stream",
     "text": [
      "Epoch:   3  train_acc:0.20000000    test_acc:0.18300000    cost:2.26819175\n",
      "Epoch:   7  train_acc:0.40000001    test_acc:0.36059999    cost:2.23078225\n",
      "Epoch:  11  train_acc:0.50000000    test_acc:0.47700000    cost:2.18954163\n",
      "Epoch:  15  train_acc:0.56999999    test_acc:0.54960001    cost:2.14207584\n",
      "Epoch:  19  train_acc:0.62000000    test_acc:0.59939998    cost:2.08604145\n",
      "Epoch:  23  train_acc:0.61000001    test_acc:0.62210000    cost:2.01939000\n",
      "Epoch:  27  train_acc:0.66000003    test_acc:0.63300002    cost:1.94066209\n",
      "Epoch:  31  train_acc:0.63999999    test_acc:0.65750003    cost:1.84936473\n",
      "Epoch:  35  train_acc:0.72000003    test_acc:0.66979998    cost:1.74705981\n",
      "Epoch:  39  train_acc:0.64999998    test_acc:0.68099999    cost:1.63743068\n",
      "Epoch:  43  train_acc:0.72000003    test_acc:0.70020002    cost:1.52589738\n",
      "Epoch:  47  train_acc:0.68000001    test_acc:0.71120000    cost:1.41808820\n",
      "Epoch:  51  train_acc:0.67000002    test_acc:0.72689998    cost:1.31813020\n",
      "Epoch:  55  train_acc:0.76999998    test_acc:0.74250001    cost:1.22819448\n",
      "Epoch:  59  train_acc:0.69999999    test_acc:0.75370002    cost:1.14873551\n",
      "Epoch:  63  train_acc:0.69000000    test_acc:0.76639998    cost:1.07911181\n",
      "Epoch:  67  train_acc:0.79000002    test_acc:0.77780002    cost:1.01813905\n",
      "Epoch:  71  train_acc:0.88000000    test_acc:0.78869998    cost:0.96455134\n",
      "Epoch:  75  train_acc:0.79000002    test_acc:0.79650003    cost:0.91715562\n",
      "Epoch:  79  train_acc:0.82999998    test_acc:0.80620003    cost:0.87502908\n",
      "Epoch:  83  train_acc:0.81000000    test_acc:0.81300002    cost:0.83728626\n",
      "Epoch:  87  train_acc:0.80000001    test_acc:0.81860000    cost:0.80328718\n",
      "Epoch:  91  train_acc:0.77999997    test_acc:0.82340002    cost:0.77251925\n",
      "Epoch:  95  train_acc:0.86000001    test_acc:0.82980001    cost:0.74452720\n",
      "Epoch:  99  train_acc:0.86000001    test_acc:0.83370000    cost:0.71899575\n",
      "Finished\n",
      "The time is: 211.95128202438354\n"
     ]
    }
   ],
   "source": [
    "start_time = time.time()\n",
    "train_epochs = 100\n",
    "batch_size = 100\n",
    "display_step = 4\n",
    "sess = tf.Session()\n",
    "sess.run(init)\n",
    "\n",
    "for epoch in range(train_epochs):\n",
    "    avg_cost = 0\n",
    "    num_batch = int(mnist.train.num_examples/batch_size)\n",
    "    for i in range(num_batch):\n",
    "        batch_xs, batch_ys = mnist.train.next_batch(batch_size)\n",
    "        feeds = {x: batch_xs, y: batch_ys}\n",
    "        sess.run(optm, feed_dict=feeds)\n",
    "        avg_cost += sess.run(cost, feed_dict=feeds)\n",
    "    avg_cost = avg_cost/num_batch\n",
    "    if (epoch+1) % display_step ==0:\n",
    "        feeds = {x: batch_xs, y: batch_ys}\n",
    "        train_acc = sess.run(accr, feed_dict=feeds)\n",
    "        feeds = {x: mnist.test.images, y: mnist.test.labels}\n",
    "        test_acc = sess.run(accr, feed_dict=feeds)\n",
    "        print('Epoch:%4d  train_acc:%.8f    test_acc:%.8f    cost:%.8f'\n",
    "             %(epoch, train_acc, test_acc, avg_cost))\n",
    "print('Finished')   \n",
    "end_time = time.time()\n",
    "print('The time is:', end_time-start_time)"
   ]
  },
  {
   "cell_type": "code",
   "execution_count": 7,
   "metadata": {},
   "outputs": [
    {
     "name": "stdout",
     "output_type": "stream",
     "text": [
      "Epoch:   3  train_acc:0.14000000    test_acc:0.21660000    cost:2.26677404\n",
      "Epoch:   7  train_acc:0.28999999    test_acc:0.35389999    cost:2.22870895\n",
      "Epoch:  11  train_acc:0.37000000    test_acc:0.44900000    cost:2.18655298\n",
      "Epoch:  15  train_acc:0.47000000    test_acc:0.49689999    cost:2.13784413\n",
      "Epoch:  19  train_acc:0.50999999    test_acc:0.55860001    cost:2.08050165\n",
      "Epoch:  23  train_acc:0.49000001    test_acc:0.59560001    cost:2.01273979\n",
      "Epoch:  27  train_acc:0.63999999    test_acc:0.61559999    cost:1.93372621\n",
      "Epoch:  31  train_acc:0.61000001    test_acc:0.64579999    cost:1.84375938\n",
      "Epoch:  35  train_acc:0.69000000    test_acc:0.66790003    cost:1.74493889\n",
      "Epoch:  39  train_acc:0.68000001    test_acc:0.69090003    cost:1.64082003\n",
      "Epoch:  43  train_acc:0.69999999    test_acc:0.71469998    cost:1.53554776\n",
      "Epoch:  47  train_acc:0.74000001    test_acc:0.73519999    cost:1.43309734\n",
      "Epoch:  51  train_acc:0.73000002    test_acc:0.74680001    cost:1.33649603\n",
      "Epoch:  55  train_acc:0.74000001    test_acc:0.75690001    cost:1.24757566\n",
      "Epoch:  59  train_acc:0.75000000    test_acc:0.77079999    cost:1.16714664\n",
      "Epoch:  63  train_acc:0.76999998    test_acc:0.78509998    cost:1.09521383\n",
      "Epoch:  67  train_acc:0.81000000    test_acc:0.79380000    cost:1.03137987\n",
      "Epoch:  71  train_acc:0.74000001    test_acc:0.79869998    cost:0.97484923\n",
      "Epoch:  75  train_acc:0.81000000    test_acc:0.80640000    cost:0.92483919\n",
      "Epoch:  79  train_acc:0.80000001    test_acc:0.81230003    cost:0.88051894\n",
      "Epoch:  83  train_acc:0.86000001    test_acc:0.81750000    cost:0.84111509\n",
      "Epoch:  87  train_acc:0.85000002    test_acc:0.82110000    cost:0.80591866\n",
      "Epoch:  91  train_acc:0.81999999    test_acc:0.82709998    cost:0.77437388\n",
      "Epoch:  95  train_acc:0.89999998    test_acc:0.83240002    cost:0.74594419\n",
      "Epoch:  99  train_acc:0.81999999    test_acc:0.83490002    cost:0.72020508\n",
      "Finished\n",
      "The time is: 144.08917450904846\n"
     ]
    }
   ],
   "source": [
    "start_time = time.time()\n",
    "train_epochs = 100\n",
    "batch_size = 100\n",
    "display_step = 4\n",
    "sess = tf.Session()\n",
    "sess.run(init)\n",
    "\n",
    "for epoch in range(train_epochs):\n",
    "    avg_cost = 0\n",
    "    num_batch = int(mnist.train.num_examples/batch_size)\n",
    "    for i in range(num_batch):\n",
    "        batch_xs, batch_ys = mnist.train.next_batch(batch_size)\n",
    "        feeds = {x: batch_xs, y: batch_ys}\n",
    "        sess.run(optm, feed_dict=feeds)\n",
    "        avg_cost += sess.run(cost, feed_dict=feeds)\n",
    "    avg_cost = avg_cost/num_batch\n",
    "    if (epoch+1) % display_step ==0:\n",
    "        feeds = {x: batch_xs, y: batch_ys}\n",
    "        train_acc = sess.run(accr, feed_dict=feeds)\n",
    "        feeds = {x: mnist.test.images, y: mnist.test.labels}\n",
    "        test_acc = sess.run(accr, feed_dict=feeds)\n",
    "        print('Epoch:%4d  train_acc:%.8f    test_acc:%.8f    cost:%.8f'\n",
    "             %(epoch, train_acc, test_acc, avg_cost))\n",
    "print('Finished')   \n",
    "end_time = time.time()\n",
    "print('The time is:', end_time-start_time)"
   ]
  },
  {
   "cell_type": "code",
   "execution_count": null,
   "metadata": {},
   "outputs": [],
   "source": []
  },
  {
   "cell_type": "code",
   "execution_count": null,
   "metadata": {},
   "outputs": [],
   "source": []
  },
  {
   "cell_type": "code",
   "execution_count": null,
   "metadata": {},
   "outputs": [],
   "source": []
  },
  {
   "cell_type": "code",
   "execution_count": null,
   "metadata": {},
   "outputs": [],
   "source": []
  },
  {
   "cell_type": "code",
   "execution_count": null,
   "metadata": {},
   "outputs": [],
   "source": []
  },
  {
   "cell_type": "code",
   "execution_count": null,
   "metadata": {},
   "outputs": [],
   "source": []
  },
  {
   "cell_type": "code",
   "execution_count": null,
   "metadata": {},
   "outputs": [],
   "source": []
  },
  {
   "cell_type": "code",
   "execution_count": null,
   "metadata": {},
   "outputs": [],
   "source": []
  },
  {
   "cell_type": "code",
   "execution_count": null,
   "metadata": {},
   "outputs": [],
   "source": []
  }
 ],
 "metadata": {
  "kernelspec": {
   "display_name": "Python 3",
   "language": "python",
   "name": "python3"
  },
  "language_info": {
   "codemirror_mode": {
    "name": "ipython",
    "version": 3
   },
   "file_extension": ".py",
   "mimetype": "text/x-python",
   "name": "python",
   "nbconvert_exporter": "python",
   "pygments_lexer": "ipython3",
   "version": "3.6.1"
  }
 },
 "nbformat": 4,
 "nbformat_minor": 2
}
