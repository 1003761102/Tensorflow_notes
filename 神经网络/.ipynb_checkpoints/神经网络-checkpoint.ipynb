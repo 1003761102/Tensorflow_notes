{
 "cells": [
  {
   "cell_type": "code",
   "execution_count": 2,
   "metadata": {},
   "outputs": [],
   "source": [
    "%matplotlib inline\n",
    "import numpy as np\n",
    "import tensorflow as tf\n",
    "import matplotlib.pyplot as plt\n",
    "from tensorflow.examples.tutorials.mnist import input_data\n",
    "import time"
   ]
  },
  {
   "cell_type": "code",
   "execution_count": 3,
   "metadata": {},
   "outputs": [
    {
     "name": "stdout",
     "output_type": "stream",
     "text": [
      "Extracting MNIST/train-images-idx3-ubyte.gz\n",
      "Extracting MNIST/train-labels-idx1-ubyte.gz\n",
      "Extracting MNIST/t10k-images-idx3-ubyte.gz\n",
      "Extracting MNIST/t10k-labels-idx1-ubyte.gz\n"
     ]
    }
   ],
   "source": [
    "mnist = input_data.read_data_sets('MNIST/', one_hot=True)"
   ]
  },
  {
   "cell_type": "code",
   "execution_count": 4,
   "metadata": {},
   "outputs": [
    {
     "name": "stdout",
     "output_type": "stream",
     "text": [
      "(55000, 784)\n"
     ]
    }
   ],
   "source": [
    "print(mnist.train.images.shape)"
   ]
  },
  {
   "cell_type": "code",
   "execution_count": 5,
   "metadata": {},
   "outputs": [],
   "source": [
    "n_hidden_1 = 256\n",
    "n_hidden_2 = 128\n",
    "n_classes = 10\n",
    "n_input = 784\n",
    "\n",
    "x = tf.placeholder('float', [None, n_input])\n",
    "y = tf.placeholder('float', [None, n_classes])\n",
    "\n",
    "stddev = 0.1 \n",
    "weights = {\n",
    "    'w1': tf.Variable(tf.random_normal([n_input, n_hidden_1], stddev=stddev)),\n",
    "    'w2': tf.Variable(tf.random_normal([n_hidden_1, n_hidden_2], stddev=stddev)),\n",
    "    'out': tf.Variable(tf.random_normal([n_hidden_2, n_classes], stddev=stddev)),\n",
    "\n",
    "}\n",
    "\n",
    "biases = {\n",
    "    'b1': tf.Variable(tf.random_normal([n_hidden_1])),\n",
    "    'b2': tf.Variable(tf.random_normal([n_hidden_2])),\n",
    "    'out': tf.Variable(tf.random_normal([n_classes])),\n",
    "\n",
    "}\n",
    "\n"
   ]
  },
  {
   "cell_type": "code",
   "execution_count": 6,
   "metadata": {},
   "outputs": [],
   "source": [
    "def multilayer_perceptron(x, weights, biases):\n",
    "    layer_1 = tf.nn.sigmoid(tf.add(tf.matmul(x, weights['w1']), biases['b1']))\n",
    "    layer_2 = tf.nn.sigmoid(tf.add(tf.matmul(layer_1, weights['w2']), biases['b2']))\n",
    "    return (tf.matmul(layer_2, weights['out']) + biases['out'])"
   ]
  },
  {
   "cell_type": "code",
   "execution_count": 7,
   "metadata": {},
   "outputs": [
    {
     "name": "stdout",
     "output_type": "stream",
     "text": [
      "WARNING:tensorflow:From <ipython-input-7-c5f99ef3c86a>:4: softmax_cross_entropy_with_logits (from tensorflow.python.ops.nn_ops) is deprecated and will be removed in a future version.\n",
      "Instructions for updating:\n",
      "\n",
      "Future major versions of TensorFlow will allow gradients to flow\n",
      "into the labels input on backprop by default.\n",
      "\n",
      "See tf.nn.softmax_cross_entropy_with_logits_v2.\n",
      "\n"
     ]
    }
   ],
   "source": [
    "pred = multilayer_perceptron(x, weights, biases)\n",
    "\n",
    "# loss and optimizer\n",
    "cost = tf.reduce_mean(tf.nn.softmax_cross_entropy_with_logits(logits=pred, labels=y))\n",
    "optm = tf.train.GradientDescentOptimizer(learning_rate=0.001).minimize(cost)\n",
    "corr = tf.equal(tf.argmax(pred, 1), tf.argmax(y, 1))\n",
    "accr = tf.reduce_mean(tf.cast(corr, 'float'))\n",
    "\n",
    "# Initializer\n",
    "init = tf.global_variables_initializer()"
   ]
  },
  {
   "cell_type": "code",
   "execution_count": 8,
   "metadata": {},
   "outputs": [
    {
     "name": "stdout",
     "output_type": "stream",
     "text": [
      "Epoch:   3  train_acc:0.20000000    test_acc:0.18300000    cost:2.26819175\n",
      "Epoch:   7  train_acc:0.40000001    test_acc:0.36059999    cost:2.23078225\n",
      "Epoch:  11  train_acc:0.50000000    test_acc:0.47700000    cost:2.18954163\n",
      "Epoch:  15  train_acc:0.56999999    test_acc:0.54960001    cost:2.14207584\n",
      "Epoch:  19  train_acc:0.62000000    test_acc:0.59939998    cost:2.08604145\n",
      "Epoch:  23  train_acc:0.61000001    test_acc:0.62210000    cost:2.01939000\n",
      "Epoch:  27  train_acc:0.66000003    test_acc:0.63300002    cost:1.94066209\n",
      "Epoch:  31  train_acc:0.63999999    test_acc:0.65750003    cost:1.84936473\n",
      "Epoch:  35  train_acc:0.72000003    test_acc:0.66979998    cost:1.74705981\n",
      "Epoch:  39  train_acc:0.64999998    test_acc:0.68099999    cost:1.63743068\n",
      "Epoch:  43  train_acc:0.72000003    test_acc:0.70020002    cost:1.52589738\n",
      "Epoch:  47  train_acc:0.68000001    test_acc:0.71120000    cost:1.41808820\n",
      "Epoch:  51  train_acc:0.67000002    test_acc:0.72689998    cost:1.31813020\n",
      "Epoch:  55  train_acc:0.76999998    test_acc:0.74250001    cost:1.22819448\n",
      "Epoch:  59  train_acc:0.69999999    test_acc:0.75370002    cost:1.14873551\n",
      "Epoch:  63  train_acc:0.69000000    test_acc:0.76639998    cost:1.07911181\n",
      "Epoch:  67  train_acc:0.79000002    test_acc:0.77780002    cost:1.01813905\n",
      "Epoch:  71  train_acc:0.88000000    test_acc:0.78869998    cost:0.96455134\n",
      "Epoch:  75  train_acc:0.79000002    test_acc:0.79650003    cost:0.91715562\n",
      "Epoch:  79  train_acc:0.82999998    test_acc:0.80620003    cost:0.87502908\n",
      "Epoch:  83  train_acc:0.81000000    test_acc:0.81300002    cost:0.83728626\n",
      "Epoch:  87  train_acc:0.80000001    test_acc:0.81860000    cost:0.80328718\n",
      "Epoch:  91  train_acc:0.77999997    test_acc:0.82340002    cost:0.77251925\n",
      "Epoch:  95  train_acc:0.86000001    test_acc:0.82980001    cost:0.74452720\n",
      "Epoch:  99  train_acc:0.86000001    test_acc:0.83370000    cost:0.71899575\n",
      "Finished\n",
      "The time is: 211.95128202438354\n"
     ]
    }
   ],
   "source": [
    "start_time = time.time()\n",
    "train_epochs = 100\n",
    "batch_size = 100\n",
    "display_step = 4\n",
    "sess = tf.Session()\n",
    "sess.run(init)\n",
    "\n",
    "for epoch in range(train_epochs):\n",
    "    avg_cost = 0\n",
    "    num_batch = int(mnist.train.num_examples/batch_size)\n",
    "    for i in range(num_batch):\n",
    "        batch_xs, batch_ys = mnist.train.next_batch(batch_size)\n",
    "        feeds = {x: batch_xs, y: batch_ys}\n",
    "        sess.run(optm, feed_dict=feeds)\n",
    "        avg_cost += sess.run(cost, feed_dict=feeds)\n",
    "    avg_cost = avg_cost/num_batch\n",
    "    if (epoch+1) % display_step ==0:\n",
    "        feeds = {x: batch_xs, y: batch_ys}\n",
    "        train_acc = sess.run(accr, feed_dict=feeds)\n",
    "        feeds = {x: mnist.test.images, y: mnist.test.labels}\n",
    "        test_acc = sess.run(accr, feed_dict=feeds)\n",
    "        print('Epoch:%4d  train_acc:%.8f    test_acc:%.8f    cost:%.8f'\n",
    "             %(epoch, train_acc, test_acc, avg_cost))\n",
    "print('Finished')   \n",
    "end_time = time.time()\n",
    "print('The time is:', end_time-start_time)"
   ]
  },
  {
   "cell_type": "code",
   "execution_count": null,
   "metadata": {},
   "outputs": [],
   "source": [
    "start_time = time.time()\n",
    "train_epochs = 100\n",
    "batch_size = 100\n",
    "display_step = 4\n",
    "sess = tf.Session()\n",
    "sess.run(init)\n",
    "\n",
    "for epoch in range(train_epochs):\n",
    "    avg_cost = 0\n",
    "    num_batch = int(mnist.train.num_examples/batch_size)\n",
    "    for i in range(num_batch):\n",
    "        batch_xs, batch_ys = mnist.train.next_batch(batch_size)\n",
    "        feeds = {x: batch_xs, y: batch_ys}\n",
    "        sess.run(optm, feed_dict=feeds)\n",
    "        avg_cost += sess.run(cost, feed_dict=feeds)\n",
    "    avg_cost = avg_cost/num_batch\n",
    "    if (epoch+1) % display_step ==0:\n",
    "        feeds = {x: batch_xs, y: batch_ys}\n",
    "        train_acc = sess.run(accr, feed_dict=feeds)\n",
    "        feeds = {x: mnist.test.images, y: mnist.test.labels}\n",
    "        test_acc = sess.run(accr, feed_dict=feeds)\n",
    "        print('Epoch:%4d  train_acc:%.8f    test_acc:%.8f    cost:%.8f'\n",
    "             %(epoch, train_acc, test_acc, avg_cost))\n",
    "print('Finished')   \n",
    "end_time = time.time()\n",
    "print('The time is:', end_time-start_time)"
   ]
  },
  {
   "cell_type": "code",
   "execution_count": null,
   "metadata": {},
   "outputs": [],
   "source": []
  },
  {
   "cell_type": "code",
   "execution_count": null,
   "metadata": {},
   "outputs": [],
   "source": []
  },
  {
   "cell_type": "code",
   "execution_count": null,
   "metadata": {},
   "outputs": [],
   "source": []
  },
  {
   "cell_type": "code",
   "execution_count": null,
   "metadata": {},
   "outputs": [],
   "source": []
  },
  {
   "cell_type": "code",
   "execution_count": null,
   "metadata": {},
   "outputs": [],
   "source": []
  },
  {
   "cell_type": "code",
   "execution_count": null,
   "metadata": {},
   "outputs": [],
   "source": []
  },
  {
   "cell_type": "code",
   "execution_count": null,
   "metadata": {},
   "outputs": [],
   "source": []
  },
  {
   "cell_type": "code",
   "execution_count": null,
   "metadata": {},
   "outputs": [],
   "source": []
  },
  {
   "cell_type": "code",
   "execution_count": null,
   "metadata": {},
   "outputs": [],
   "source": []
  }
 ],
 "metadata": {
  "kernelspec": {
   "display_name": "Python 3",
   "language": "python",
   "name": "python3"
  },
  "language_info": {
   "codemirror_mode": {
    "name": "ipython",
    "version": 3
   },
   "file_extension": ".py",
   "mimetype": "text/x-python",
   "name": "python",
   "nbconvert_exporter": "python",
   "pygments_lexer": "ipython3",
   "version": "3.6.1"
  }
 },
 "nbformat": 4,
 "nbformat_minor": 2
}
