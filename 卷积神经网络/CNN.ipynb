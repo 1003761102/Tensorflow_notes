{
 "cells": [
  {
   "cell_type": "code",
   "execution_count": 10,
   "metadata": {},
   "outputs": [],
   "source": [
    "%matplotlib inline\n",
    "import numpy as np\n",
    "import matplotlib.pyplot as plt\n",
    "import tensorflow as tf\n",
    "from tensorflow.examples.tutorials.mnist import input_data\n",
    "import time"
   ]
  },
  {
   "cell_type": "code",
   "execution_count": 2,
   "metadata": {},
   "outputs": [
    {
     "name": "stdout",
     "output_type": "stream",
     "text": [
      "WARNING:tensorflow:From <ipython-input-2-c891a3dc0db8>:1: read_data_sets (from tensorflow.contrib.learn.python.learn.datasets.mnist) is deprecated and will be removed in a future version.\n",
      "Instructions for updating:\n",
      "Please use alternatives such as official/mnist/dataset.py from tensorflow/models.\n",
      "WARNING:tensorflow:From c:\\users\\idsse\\envs\\tf_env\\lib\\site-packages\\tensorflow\\contrib\\learn\\python\\learn\\datasets\\mnist.py:260: maybe_download (from tensorflow.contrib.learn.python.learn.datasets.base) is deprecated and will be removed in a future version.\n",
      "Instructions for updating:\n",
      "Please write your own downloading logic.\n",
      "WARNING:tensorflow:From c:\\users\\idsse\\envs\\tf_env\\lib\\site-packages\\tensorflow\\contrib\\learn\\python\\learn\\datasets\\mnist.py:262: extract_images (from tensorflow.contrib.learn.python.learn.datasets.mnist) is deprecated and will be removed in a future version.\n",
      "Instructions for updating:\n",
      "Please use tf.data to implement this functionality.\n",
      "Extracting MNIST/train-images-idx3-ubyte.gz\n",
      "WARNING:tensorflow:From c:\\users\\idsse\\envs\\tf_env\\lib\\site-packages\\tensorflow\\contrib\\learn\\python\\learn\\datasets\\mnist.py:267: extract_labels (from tensorflow.contrib.learn.python.learn.datasets.mnist) is deprecated and will be removed in a future version.\n",
      "Instructions for updating:\n",
      "Please use tf.data to implement this functionality.\n",
      "Extracting MNIST/train-labels-idx1-ubyte.gz\n",
      "WARNING:tensorflow:From c:\\users\\idsse\\envs\\tf_env\\lib\\site-packages\\tensorflow\\contrib\\learn\\python\\learn\\datasets\\mnist.py:110: dense_to_one_hot (from tensorflow.contrib.learn.python.learn.datasets.mnist) is deprecated and will be removed in a future version.\n",
      "Instructions for updating:\n",
      "Please use tf.one_hot on tensors.\n",
      "Extracting MNIST/t10k-images-idx3-ubyte.gz\n",
      "Extracting MNIST/t10k-labels-idx1-ubyte.gz\n",
      "WARNING:tensorflow:From c:\\users\\idsse\\envs\\tf_env\\lib\\site-packages\\tensorflow\\contrib\\learn\\python\\learn\\datasets\\mnist.py:290: DataSet.__init__ (from tensorflow.contrib.learn.python.learn.datasets.mnist) is deprecated and will be removed in a future version.\n",
      "Instructions for updating:\n",
      "Please use alternatives such as official/mnist/dataset.py from tensorflow/models.\n",
      "MNIST ready\n"
     ]
    }
   ],
   "source": [
    "mnist = input_data.read_data_sets('MNIST/', one_hot=True)\n",
    "train_images = mnist.train.images\n",
    "train_labels = mnist.train.labels\n",
    "test_images = mnist.test.images\n",
    "test_labels = mnist.test.labels\n",
    "print('MNIST ready')"
   ]
  },
  {
   "cell_type": "code",
   "execution_count": 3,
   "metadata": {},
   "outputs": [],
   "source": [
    "n_input = 784\n",
    "n_output = 10\n",
    "weights = {\n",
    "    'wc1': tf.Variable(tf.random_normal([3, 3, 1, 64], stddev=0.1)),\n",
    "    'wc2': tf.Variable(tf.random_normal([3, 3, 64, 128], stddev=0.1)),\n",
    "    'wd1': tf.Variable(tf.random_normal([7*7*128, 1024], stddev=0.1)),\n",
    "    'wd2': tf.Variable(tf.random_normal([1024, n_output], stddev=0.1))\n",
    "}\n",
    "\n",
    "biases = {\n",
    "    'bc1': tf.Variable(tf.random_normal([64], stddev=0.1)),\n",
    "    'bc2': tf.Variable(tf.random_normal([128], stddev=0.1)),\n",
    "    'bd1': tf.Variable(tf.random_normal([1024], stddev=0.1)),\n",
    "    'bd2': tf.Variable(tf.random_normal([n_output], stddev=0.1)),\n",
    "    \n",
    "}"
   ]
  },
  {
   "cell_type": "code",
   "execution_count": 4,
   "metadata": {},
   "outputs": [
    {
     "name": "stdout",
     "output_type": "stream",
     "text": [
      "CNN ready\n"
     ]
    }
   ],
   "source": [
    "def conv_basic(_input, _w, _b, _keepratio):\n",
    "    \n",
    "    _input_r = tf.reshape(_input, shape=[-1, 28, 28, 1])\n",
    "    # CONV LAYER 1\n",
    "    _conv1 = tf.nn.conv2d(_input_r, _w['wc1'], strides=[1, 1, 1, 1], padding='SAME')\n",
    "    _conv1 = tf.nn.relu(tf.nn.bias_add(_conv1, _b['bc1']))\n",
    "    _pool1 = tf.nn.max_pool(_conv1, ksize=[1, 2, 2, 1], strides=[1, 2,2, 1], padding='SAME')\n",
    "    _pool1_dr1 = tf.nn.dropout(_pool1, _keepratio)\n",
    "    \n",
    "    # CONV layer2\n",
    "    _conv2 = tf.nn.conv2d(_pool1_dr1, _w['wc2'], strides=[1, 1, 1, 1], padding='SAME')\n",
    "    _conv2 = tf.nn.relu(tf.nn.bias_add(_conv2, _b['bc2']))\n",
    "    _pool2 = tf.nn.max_pool(_conv2, ksize=[1, 2, 2, 1], strides=[1, 2, 2, 1], padding='SAME')\n",
    "    _pool2_dr2 = tf.nn.dropout(_pool2, _keepratio)\n",
    "    \n",
    "    # vectorize\n",
    "    _densel = tf.reshape(_pool2_dr2, [-1, _w['wd1'].get_shape().as_list()[0]])\n",
    "    # Fully connected layer1\n",
    "    _fc1 = tf.nn.relu(tf.add(tf.matmul(_densel, _w['wd1']), _b['bd1']))\n",
    "    _fc1_dr1 = tf.nn.dropout(_fc1, _keepratio)\n",
    "    # Fully connected layer2\n",
    "    _out = tf.add(tf.matmul(_fc1_dr1, _w['wd2']), _b['bd2'])\n",
    "    out = {\n",
    "        'input_r': _input_r,\n",
    "        'conv1': _conv1,\n",
    "        'conv2': _conv2,\n",
    "        'pool1': _pool1,\n",
    "        'pool2': _pool2,\n",
    "        'pool1_dr1': _pool1_dr1,\n",
    "        'pool2_dr2': _pool2_dr2,\n",
    "        'densel': _densel,\n",
    "        'fc1': _fc1,\n",
    "        'fc1_dr1': _fc1_dr1,\n",
    "        'out': _out\n",
    "    }\n",
    "    return out\n",
    "print('CNN ready')"
   ]
  },
  {
   "cell_type": "code",
   "execution_count": 5,
   "metadata": {},
   "outputs": [
    {
     "name": "stdout",
     "output_type": "stream",
     "text": [
      "WARNING:tensorflow:From <ipython-input-5-7b18a14c5e29>:7: softmax_cross_entropy_with_logits (from tensorflow.python.ops.nn_ops) is deprecated and will be removed in a future version.\n",
      "Instructions for updating:\n",
      "\n",
      "Future major versions of TensorFlow will allow gradients to flow\n",
      "into the labels input on backprop by default.\n",
      "\n",
      "See tf.nn.softmax_cross_entropy_with_logits_v2.\n",
      "\n",
      "WARNING:tensorflow:From <ipython-input-5-7b18a14c5e29>:9: arg_max (from tensorflow.python.ops.gen_math_ops) is deprecated and will be removed in a future version.\n",
      "Instructions for updating:\n",
      "Use `argmax` instead\n",
      "Graph ready\n"
     ]
    }
   ],
   "source": [
    "x = tf.placeholder(tf.float32, [None, n_input])\n",
    "y = tf.placeholder(tf.float32, [None, n_output])\n",
    "keepratio = tf.placeholder(tf.float32)\n",
    "\n",
    "# functions\n",
    "pred = conv_basic(x, weights, biases, keepratio)['out']\n",
    "cost = tf.reduce_mean(tf.nn.softmax_cross_entropy_with_logits(logits=pred, labels=y))\n",
    "optm = tf.train.AdamOptimizer(learning_rate=0.001).minimize(cost)\n",
    "_corr = tf.equal(tf.arg_max(pred, 1), tf.argmax(y, 1))\n",
    "accr = tf.reduce_mean(tf.cast(_corr, tf.float32))\n",
    "init = tf.global_variables_initializer()\n",
    "\n",
    "# saver\n",
    "save_step = 1\n",
    "saver = tf.train.Saver(max_to_keep=3)\n",
    "print('Graph ready')"
   ]
  },
  {
   "cell_type": "code",
   "execution_count": 12,
   "metadata": {},
   "outputs": [],
   "source": [
    "do_train = 1\n",
    "sess = tf.Session()\n",
    "sess.run(init)"
   ]
  },
  {
   "cell_type": "code",
   "execution_count": 17,
   "metadata": {},
   "outputs": [
    {
     "name": "stdout",
     "output_type": "stream",
     "text": [
      "Eopch:     0  train_accr: 0.93750000    test_acc:0.98769999   loss:0.07436\n",
      "Time is: 317.03809571266174\n",
      "Eopch:     1  train_accr: 1.00000000    test_acc:0.98780000   loss:0.05172\n",
      "Time is: 325.8013997077942\n",
      "Eopch:     2  train_accr: 1.00000000    test_acc:0.99159998   loss:0.04396\n",
      "Time is: 327.81976890563965\n",
      "Eopch:     3  train_accr: 1.00000000    test_acc:0.99220002   loss:0.03706\n",
      "Time is: 327.553058385849\n",
      "Eopch:     4  train_accr: 1.00000000    test_acc:0.99159998   loss:0.03163\n",
      "Time is: 328.1135501861572\n",
      "Eopch:     5  train_accr: 1.00000000    test_acc:0.99250001   loss:0.02681\n",
      "Time is: 322.01633620262146\n",
      "Eopch:     6  train_accr: 1.00000000    test_acc:0.99229997   loss:0.02808\n",
      "Time is: 322.6861152648926\n",
      "Eopch:     7  train_accr: 1.00000000    test_acc:0.99290001   loss:0.02662\n",
      "Time is: 326.4110221862793\n",
      "Eopch:     8  train_accr: 1.00000000    test_acc:0.99299997   loss:0.02809\n",
      "Time is: 328.5777826309204\n",
      "Eopch:     9  train_accr: 1.00000000    test_acc:0.99080002   loss:0.02368\n",
      "Time is: 328.53467082977295\n",
      "Eopch:    10  train_accr: 1.00000000    test_acc:0.99299997   loss:0.02466\n",
      "Time is: 328.2198305130005\n",
      "Eopch:    11  train_accr: 1.00000000    test_acc:0.99140000   loss:0.02235\n",
      "Time is: 326.4019978046417\n",
      "Eopch:    12  train_accr: 1.00000000    test_acc:0.99330002   loss:0.02342\n",
      "Time is: 322.2659990787506\n",
      "Eopch:    13  train_accr: 1.00000000    test_acc:0.99199998   loss:0.02138\n",
      "Time is: 322.02435779571533\n",
      "Eopch:    14  train_accr: 1.00000000    test_acc:0.99199998   loss:0.02185\n",
      "Time is: 327.90499472618103\n"
     ]
    }
   ],
   "source": [
    "train_epochs = 15\n",
    "batch_size = 16\n",
    "display_step = 1\n",
    "if do_train == 1:\n",
    "    for epoch in range(train_epochs):\n",
    "        start_time = time.time()\n",
    "        avg_cost = 0\n",
    "        num_batch = int(mnist.train.num_examples/batch_size)\n",
    "        for i in range(num_batch):\n",
    "            batch_xs, batch_ys = mnist.train.next_batch(batch_size)\n",
    "            feeds = {x: batch_xs, y: batch_ys, keepratio: 0.7}\n",
    "            sess.run(optm, feed_dict=feeds)\n",
    "            avg_cost += sess.run(cost, feed_dict=feeds)/num_batch\n",
    "        if epoch % display_step == 0:\n",
    "            train_accr = sess.run(accr, feed_dict=feeds)\n",
    "            feeds_test = {x: mnist.test.images, y: mnist.test.labels, keepratio: 1.}\n",
    "            test_accr = sess.run(accr, feed_dict=feeds_test)\n",
    "            print('Eopch: %5d  train_accr: %.8f    test_acc:%.8f   loss:%.5f' %(epoch, train_accr, test_accr, avg_cost))\n",
    "            end_time = time.time()\n",
    "            print('Time is:', end_time-start_time)"
   ]
  },
  {
   "cell_type": "code",
   "execution_count": null,
   "metadata": {},
   "outputs": [],
   "source": []
  },
  {
   "cell_type": "code",
   "execution_count": null,
   "metadata": {},
   "outputs": [],
   "source": []
  },
  {
   "cell_type": "code",
   "execution_count": null,
   "metadata": {},
   "outputs": [],
   "source": []
  },
  {
   "cell_type": "code",
   "execution_count": null,
   "metadata": {},
   "outputs": [],
   "source": []
  },
  {
   "cell_type": "code",
   "execution_count": null,
   "metadata": {},
   "outputs": [],
   "source": []
  }
 ],
 "metadata": {
  "kernelspec": {
   "display_name": "Python 3",
   "language": "python",
   "name": "python3"
  },
  "language_info": {
   "codemirror_mode": {
    "name": "ipython",
    "version": 3
   },
   "file_extension": ".py",
   "mimetype": "text/x-python",
   "name": "python",
   "nbconvert_exporter": "python",
   "pygments_lexer": "ipython3",
   "version": "3.6.1"
  }
 },
 "nbformat": 4,
 "nbformat_minor": 2
}
